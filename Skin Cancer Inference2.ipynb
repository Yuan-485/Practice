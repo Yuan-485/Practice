{
 "cells": [
  {
   "cell_type": "code",
   "execution_count": 1,
   "id": "f014ea2a-415a-4359-a1cf-2c5abcb89463",
   "metadata": {},
   "outputs": [
    {
     "name": "stderr",
     "output_type": "stream",
     "text": [
      "C:\\Users\\leimi\\AppData\\Local\\Programs\\Python\\Python310\\Lib\\site-packages\\fastai\\learner.py:455: UserWarning: load_learner` uses Python's insecure pickle module, which can execute malicious arbitrary code when loading. Only load files you trust.\n",
      "If you only need to load model weights and optimizer state, use the safe `Learner.load` instead.\n",
      "  warn(\"load_learner` uses Python's insecure pickle module, which can execute malicious arbitrary code when loading. Only load files you trust.\\nIf you only need to load model weights and optimizer state, use the safe `Learner.load` instead.\")\n"
     ]
    }
   ],
   "source": [
    "from fastai.vision.all import *\n",
    "\n",
    "learn_inf = load_learner(r'D:\\AI Machine Learning\\Skin Cancer AI\\Skin Cancer Model/export2.pkl')\n",
    "\n",
    "\n",
    "infpath = Path(r'D:\\AI Machine Learning\\Skin Cancer AI\\Skin Cancer Model\\archive\\test')\n"
   ]
  },
  {
   "cell_type": "code",
   "execution_count": 2,
   "id": "1bbb5411-9d1f-413d-85ae-17c7049b95e6",
   "metadata": {},
   "outputs": [
    {
     "data": {
      "application/vnd.jupyter.widget-view+json": {
       "model_id": "4414b025c1de42e5aa9ea5712f69e6ab",
       "version_major": 2,
       "version_minor": 0
      },
      "text/plain": [
       "VBox(children=(Label(value='⬇️ Upload your image here ⬇️'), FileUpload(value=(), accept='image/*', description…"
      ]
     },
     "metadata": {},
     "output_type": "display_data"
    }
   ],
   "source": [
    "from fastai.vision.all import *\n",
    "import ipywidgets as widgets\n",
    "from IPython.display import display\n",
    "from io import BytesIO\n",
    "\n",
    "# Upload and button widgets\n",
    "btn_upload = widgets.FileUpload(accept='image/*')\n",
    "btn_run = widgets.Button(description='Classify')\n",
    "out_pl = widgets.Output()\n",
    "lbl_pred = widgets.Label()\n",
    "\n",
    "# Classification function\n",
    "def on_click_classify(change):\n",
    "    if not btn_upload.value:\n",
    "        lbl_pred.value = \"⚠️ Please upload an image before classifying.\"\n",
    "        return\n",
    "    uploaded_file = btn_upload.value[0]\n",
    "    img_bytes = uploaded_file['content']\n",
    "    img = PILImage.create(BytesIO(img_bytes))\n",
    "    out_pl.clear_output()\n",
    "    with out_pl:\n",
    "        display(img.to_thumb(256, 256))\n",
    "    pred, pred_idx, probs = learn_inf.predict(img)\n",
    "    lbl_pred.value = f'Prediction: {pred}; Probability: {probs[pred_idx]:.04f}'\n",
    "\n",
    "# Connect button\n",
    "btn_run.on_click(on_click_classify)\n",
    "\n",
    "# Layout\n",
    "ui = widgets.VBox([\n",
    "    widgets.Label('⬇️ Upload your image here ⬇️'),\n",
    "    btn_upload,\n",
    "    btn_run,\n",
    "    out_pl,\n",
    "    lbl_pred\n",
    "])\n",
    "\n",
    "# Display the UI\n",
    "display(ui)\n"
   ]
  }
 ],
 "metadata": {
  "kernelspec": {
   "display_name": "Python 3 (ipykernel)",
   "language": "python",
   "name": "python3"
  },
  "language_info": {
   "codemirror_mode": {
    "name": "ipython",
    "version": 3
   },
   "file_extension": ".py",
   "mimetype": "text/x-python",
   "name": "python",
   "nbconvert_exporter": "python",
   "pygments_lexer": "ipython3",
   "version": "3.13.0"
  }
 },
 "nbformat": 4,
 "nbformat_minor": 5
}
